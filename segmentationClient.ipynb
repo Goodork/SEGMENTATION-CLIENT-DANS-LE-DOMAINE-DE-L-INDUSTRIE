{
 "cells": [
  {
   "cell_type": "markdown",
   "id": "74bb991c",
   "metadata": {},
   "source": [
    "### SEGMENTATION CLIENTS ( DOMAINE DE L'INDUSTRIE) "
   ]
  },
  {
   "cell_type": "markdown",
   "id": "54ffb773",
   "metadata": {},
   "source": [
    "##### CHARGEMENT ET NETOYAGE DES DONNEES."
   ]
  },
  {
   "cell_type": "code",
   "execution_count": 1,
   "id": "d16bda1e",
   "metadata": {},
   "outputs": [],
   "source": [
    "import pandas as pd"
   ]
  },
  {
   "cell_type": "code",
   "execution_count": 2,
   "id": "e5259996",
   "metadata": {},
   "outputs": [
    {
     "data": {
      "text/html": [
       "<div>\n",
       "<style scoped>\n",
       "    .dataframe tbody tr th:only-of-type {\n",
       "        vertical-align: middle;\n",
       "    }\n",
       "\n",
       "    .dataframe tbody tr th {\n",
       "        vertical-align: top;\n",
       "    }\n",
       "\n",
       "    .dataframe thead th {\n",
       "        text-align: right;\n",
       "    }\n",
       "</style>\n",
       "<table border=\"1\" class=\"dataframe\">\n",
       "  <thead>\n",
       "    <tr style=\"text-align: right;\">\n",
       "      <th></th>\n",
       "      <th>InvoiceNo</th>\n",
       "      <th>StockCode</th>\n",
       "      <th>Description</th>\n",
       "      <th>Quantity</th>\n",
       "      <th>InvoiceDate</th>\n",
       "      <th>UnitPrice</th>\n",
       "      <th>CustomerID</th>\n",
       "      <th>Country</th>\n",
       "    </tr>\n",
       "  </thead>\n",
       "  <tbody>\n",
       "    <tr>\n",
       "      <th>0</th>\n",
       "      <td>536365</td>\n",
       "      <td>85123A</td>\n",
       "      <td>WHITE HANGING HEART T-LIGHT HOLDER</td>\n",
       "      <td>6</td>\n",
       "      <td>12/1/2010 8:26</td>\n",
       "      <td>2.55</td>\n",
       "      <td>17850.0</td>\n",
       "      <td>United Kingdom</td>\n",
       "    </tr>\n",
       "    <tr>\n",
       "      <th>1</th>\n",
       "      <td>536365</td>\n",
       "      <td>71053</td>\n",
       "      <td>WHITE METAL LANTERN</td>\n",
       "      <td>6</td>\n",
       "      <td>12/1/2010 8:26</td>\n",
       "      <td>3.39</td>\n",
       "      <td>17850.0</td>\n",
       "      <td>United Kingdom</td>\n",
       "    </tr>\n",
       "    <tr>\n",
       "      <th>2</th>\n",
       "      <td>536365</td>\n",
       "      <td>84406B</td>\n",
       "      <td>CREAM CUPID HEARTS COAT HANGER</td>\n",
       "      <td>8</td>\n",
       "      <td>12/1/2010 8:26</td>\n",
       "      <td>2.75</td>\n",
       "      <td>17850.0</td>\n",
       "      <td>United Kingdom</td>\n",
       "    </tr>\n",
       "    <tr>\n",
       "      <th>3</th>\n",
       "      <td>536365</td>\n",
       "      <td>84029G</td>\n",
       "      <td>KNITTED UNION FLAG HOT WATER BOTTLE</td>\n",
       "      <td>6</td>\n",
       "      <td>12/1/2010 8:26</td>\n",
       "      <td>3.39</td>\n",
       "      <td>17850.0</td>\n",
       "      <td>United Kingdom</td>\n",
       "    </tr>\n",
       "    <tr>\n",
       "      <th>4</th>\n",
       "      <td>536365</td>\n",
       "      <td>84029E</td>\n",
       "      <td>RED WOOLLY HOTTIE WHITE HEART.</td>\n",
       "      <td>6</td>\n",
       "      <td>12/1/2010 8:26</td>\n",
       "      <td>3.39</td>\n",
       "      <td>17850.0</td>\n",
       "      <td>United Kingdom</td>\n",
       "    </tr>\n",
       "  </tbody>\n",
       "</table>\n",
       "</div>"
      ],
      "text/plain": [
       "  InvoiceNo StockCode                          Description  Quantity  \\\n",
       "0    536365    85123A   WHITE HANGING HEART T-LIGHT HOLDER         6   \n",
       "1    536365     71053                  WHITE METAL LANTERN         6   \n",
       "2    536365    84406B       CREAM CUPID HEARTS COAT HANGER         8   \n",
       "3    536365    84029G  KNITTED UNION FLAG HOT WATER BOTTLE         6   \n",
       "4    536365    84029E       RED WOOLLY HOTTIE WHITE HEART.         6   \n",
       "\n",
       "      InvoiceDate  UnitPrice  CustomerID         Country  \n",
       "0  12/1/2010 8:26       2.55     17850.0  United Kingdom  \n",
       "1  12/1/2010 8:26       3.39     17850.0  United Kingdom  \n",
       "2  12/1/2010 8:26       2.75     17850.0  United Kingdom  \n",
       "3  12/1/2010 8:26       3.39     17850.0  United Kingdom  \n",
       "4  12/1/2010 8:26       3.39     17850.0  United Kingdom  "
      ]
     },
     "execution_count": 2,
     "metadata": {},
     "output_type": "execute_result"
    }
   ],
   "source": [
    "data=pd.read_csv(\"data.csv\")\n",
    "data.head()\n"
   ]
  },
  {
   "cell_type": "code",
   "execution_count": 3,
   "id": "0f7e3dd0",
   "metadata": {},
   "outputs": [
    {
     "data": {
      "text/plain": [
       "(541909, 8)"
      ]
     },
     "execution_count": 3,
     "metadata": {},
     "output_type": "execute_result"
    }
   ],
   "source": [
    "# Determinons la taille de la base de données utilisée.\n",
    "data.shape"
   ]
  },
  {
   "cell_type": "code",
   "execution_count": 4,
   "id": "445907e4",
   "metadata": {},
   "outputs": [
    {
     "data": {
      "text/plain": [
       "4373"
      ]
     },
     "execution_count": 4,
     "metadata": {},
     "output_type": "execute_result"
    }
   ],
   "source": [
    "# Determinons le nombre de clients distinct\n",
    "len(data['CustomerID'].unique())"
   ]
  },
  {
   "cell_type": "code",
   "execution_count": 5,
   "id": "c5a7f1bc",
   "metadata": {},
   "outputs": [
    {
     "data": {
      "text/html": [
       "<div>\n",
       "<style scoped>\n",
       "    .dataframe tbody tr th:only-of-type {\n",
       "        vertical-align: middle;\n",
       "    }\n",
       "\n",
       "    .dataframe tbody tr th {\n",
       "        vertical-align: top;\n",
       "    }\n",
       "\n",
       "    .dataframe thead th {\n",
       "        text-align: right;\n",
       "    }\n",
       "</style>\n",
       "<table border=\"1\" class=\"dataframe\">\n",
       "  <thead>\n",
       "    <tr style=\"text-align: right;\">\n",
       "      <th></th>\n",
       "      <th>Quantity</th>\n",
       "      <th>UnitPrice</th>\n",
       "      <th>CustomerID</th>\n",
       "    </tr>\n",
       "  </thead>\n",
       "  <tbody>\n",
       "    <tr>\n",
       "      <th>count</th>\n",
       "      <td>541909.000000</td>\n",
       "      <td>541909.000000</td>\n",
       "      <td>406829.000000</td>\n",
       "    </tr>\n",
       "    <tr>\n",
       "      <th>mean</th>\n",
       "      <td>9.552250</td>\n",
       "      <td>4.611114</td>\n",
       "      <td>15287.690570</td>\n",
       "    </tr>\n",
       "    <tr>\n",
       "      <th>std</th>\n",
       "      <td>218.081158</td>\n",
       "      <td>96.759853</td>\n",
       "      <td>1713.600303</td>\n",
       "    </tr>\n",
       "    <tr>\n",
       "      <th>min</th>\n",
       "      <td>-80995.000000</td>\n",
       "      <td>-11062.060000</td>\n",
       "      <td>12346.000000</td>\n",
       "    </tr>\n",
       "    <tr>\n",
       "      <th>25%</th>\n",
       "      <td>1.000000</td>\n",
       "      <td>1.250000</td>\n",
       "      <td>13953.000000</td>\n",
       "    </tr>\n",
       "    <tr>\n",
       "      <th>50%</th>\n",
       "      <td>3.000000</td>\n",
       "      <td>2.080000</td>\n",
       "      <td>15152.000000</td>\n",
       "    </tr>\n",
       "    <tr>\n",
       "      <th>75%</th>\n",
       "      <td>10.000000</td>\n",
       "      <td>4.130000</td>\n",
       "      <td>16791.000000</td>\n",
       "    </tr>\n",
       "    <tr>\n",
       "      <th>max</th>\n",
       "      <td>80995.000000</td>\n",
       "      <td>38970.000000</td>\n",
       "      <td>18287.000000</td>\n",
       "    </tr>\n",
       "  </tbody>\n",
       "</table>\n",
       "</div>"
      ],
      "text/plain": [
       "            Quantity      UnitPrice     CustomerID\n",
       "count  541909.000000  541909.000000  406829.000000\n",
       "mean        9.552250       4.611114   15287.690570\n",
       "std       218.081158      96.759853    1713.600303\n",
       "min    -80995.000000  -11062.060000   12346.000000\n",
       "25%         1.000000       1.250000   13953.000000\n",
       "50%         3.000000       2.080000   15152.000000\n",
       "75%        10.000000       4.130000   16791.000000\n",
       "max     80995.000000   38970.000000   18287.000000"
      ]
     },
     "execution_count": 5,
     "metadata": {},
     "output_type": "execute_result"
    }
   ],
   "source": [
    "data.describe()"
   ]
  },
  {
   "cell_type": "code",
   "execution_count": 6,
   "id": "c26e28c2",
   "metadata": {},
   "outputs": [
    {
     "name": "stdout",
     "output_type": "stream",
     "text": [
      "<class 'pandas.core.frame.DataFrame'>\n",
      "RangeIndex: 541909 entries, 0 to 541908\n",
      "Data columns (total 8 columns):\n",
      " #   Column       Non-Null Count   Dtype  \n",
      "---  ------       --------------   -----  \n",
      " 0   InvoiceNo    541909 non-null  object \n",
      " 1   StockCode    541909 non-null  object \n",
      " 2   Description  540455 non-null  object \n",
      " 3   Quantity     541909 non-null  int64  \n",
      " 4   InvoiceDate  541909 non-null  object \n",
      " 5   UnitPrice    541909 non-null  float64\n",
      " 6   CustomerID   406829 non-null  float64\n",
      " 7   Country      541909 non-null  object \n",
      "dtypes: float64(2), int64(1), object(5)\n",
      "memory usage: 33.1+ MB\n"
     ]
    }
   ],
   "source": [
    "data.info()"
   ]
  },
  {
   "cell_type": "code",
   "execution_count": 7,
   "id": "1b702849",
   "metadata": {},
   "outputs": [
    {
     "data": {
      "text/plain": [
       "InvoiceNo           0\n",
       "StockCode           0\n",
       "Description      1454\n",
       "Quantity            0\n",
       "InvoiceDate         0\n",
       "UnitPrice           0\n",
       "CustomerID     135080\n",
       "Country             0\n",
       "dtype: int64"
      ]
     },
     "execution_count": 7,
     "metadata": {},
     "output_type": "execute_result"
    }
   ],
   "source": [
    "data.isna().sum()"
   ]
  },
  {
   "cell_type": "markdown",
   "id": "5472faf3",
   "metadata": {},
   "source": [
    "##### Supprimons les valeurs manquantes"
   ]
  },
  {
   "cell_type": "code",
   "execution_count": 8,
   "id": "fa8e9b17",
   "metadata": {},
   "outputs": [],
   "source": [
    "data=data.dropna()"
   ]
  },
  {
   "cell_type": "code",
   "execution_count": 9,
   "id": "526edcf7",
   "metadata": {},
   "outputs": [
    {
     "data": {
      "text/html": [
       "<div>\n",
       "<style scoped>\n",
       "    .dataframe tbody tr th:only-of-type {\n",
       "        vertical-align: middle;\n",
       "    }\n",
       "\n",
       "    .dataframe tbody tr th {\n",
       "        vertical-align: top;\n",
       "    }\n",
       "\n",
       "    .dataframe thead th {\n",
       "        text-align: right;\n",
       "    }\n",
       "</style>\n",
       "<table border=\"1\" class=\"dataframe\">\n",
       "  <thead>\n",
       "    <tr style=\"text-align: right;\">\n",
       "      <th></th>\n",
       "      <th>InvoiceNo</th>\n",
       "      <th>StockCode</th>\n",
       "      <th>Description</th>\n",
       "      <th>Quantity</th>\n",
       "      <th>InvoiceDate</th>\n",
       "      <th>UnitPrice</th>\n",
       "      <th>CustomerID</th>\n",
       "      <th>Country</th>\n",
       "    </tr>\n",
       "  </thead>\n",
       "  <tbody>\n",
       "    <tr>\n",
       "      <th>0</th>\n",
       "      <td>536365</td>\n",
       "      <td>85123A</td>\n",
       "      <td>WHITE HANGING HEART T-LIGHT HOLDER</td>\n",
       "      <td>6</td>\n",
       "      <td>12/1/2010 8:26</td>\n",
       "      <td>2.55</td>\n",
       "      <td>17850.0</td>\n",
       "      <td>United Kingdom</td>\n",
       "    </tr>\n",
       "    <tr>\n",
       "      <th>1</th>\n",
       "      <td>536365</td>\n",
       "      <td>71053</td>\n",
       "      <td>WHITE METAL LANTERN</td>\n",
       "      <td>6</td>\n",
       "      <td>12/1/2010 8:26</td>\n",
       "      <td>3.39</td>\n",
       "      <td>17850.0</td>\n",
       "      <td>United Kingdom</td>\n",
       "    </tr>\n",
       "    <tr>\n",
       "      <th>2</th>\n",
       "      <td>536365</td>\n",
       "      <td>84406B</td>\n",
       "      <td>CREAM CUPID HEARTS COAT HANGER</td>\n",
       "      <td>8</td>\n",
       "      <td>12/1/2010 8:26</td>\n",
       "      <td>2.75</td>\n",
       "      <td>17850.0</td>\n",
       "      <td>United Kingdom</td>\n",
       "    </tr>\n",
       "    <tr>\n",
       "      <th>3</th>\n",
       "      <td>536365</td>\n",
       "      <td>84029G</td>\n",
       "      <td>KNITTED UNION FLAG HOT WATER BOTTLE</td>\n",
       "      <td>6</td>\n",
       "      <td>12/1/2010 8:26</td>\n",
       "      <td>3.39</td>\n",
       "      <td>17850.0</td>\n",
       "      <td>United Kingdom</td>\n",
       "    </tr>\n",
       "    <tr>\n",
       "      <th>4</th>\n",
       "      <td>536365</td>\n",
       "      <td>84029E</td>\n",
       "      <td>RED WOOLLY HOTTIE WHITE HEART.</td>\n",
       "      <td>6</td>\n",
       "      <td>12/1/2010 8:26</td>\n",
       "      <td>3.39</td>\n",
       "      <td>17850.0</td>\n",
       "      <td>United Kingdom</td>\n",
       "    </tr>\n",
       "  </tbody>\n",
       "</table>\n",
       "</div>"
      ],
      "text/plain": [
       "  InvoiceNo StockCode                          Description  Quantity  \\\n",
       "0    536365    85123A   WHITE HANGING HEART T-LIGHT HOLDER         6   \n",
       "1    536365     71053                  WHITE METAL LANTERN         6   \n",
       "2    536365    84406B       CREAM CUPID HEARTS COAT HANGER         8   \n",
       "3    536365    84029G  KNITTED UNION FLAG HOT WATER BOTTLE         6   \n",
       "4    536365    84029E       RED WOOLLY HOTTIE WHITE HEART.         6   \n",
       "\n",
       "      InvoiceDate  UnitPrice  CustomerID         Country  \n",
       "0  12/1/2010 8:26       2.55     17850.0  United Kingdom  \n",
       "1  12/1/2010 8:26       3.39     17850.0  United Kingdom  \n",
       "2  12/1/2010 8:26       2.75     17850.0  United Kingdom  \n",
       "3  12/1/2010 8:26       3.39     17850.0  United Kingdom  \n",
       "4  12/1/2010 8:26       3.39     17850.0  United Kingdom  "
      ]
     },
     "execution_count": 9,
     "metadata": {},
     "output_type": "execute_result"
    }
   ],
   "source": [
    "data.head()"
   ]
  },
  {
   "cell_type": "code",
   "execution_count": 10,
   "id": "056c582f",
   "metadata": {},
   "outputs": [
    {
     "data": {
      "text/plain": [
       "(406829, 8)"
      ]
     },
     "execution_count": 10,
     "metadata": {},
     "output_type": "execute_result"
    }
   ],
   "source": [
    "data.shape"
   ]
  },
  {
   "cell_type": "markdown",
   "id": "2c6a7c6c",
   "metadata": {},
   "source": [
    "##### Supprimons les colones :'InvoiceNo', 'StockCode'"
   ]
  },
  {
   "cell_type": "code",
   "execution_count": 11,
   "id": "a1a99626",
   "metadata": {},
   "outputs": [
    {
     "data": {
      "text/html": [
       "<div>\n",
       "<style scoped>\n",
       "    .dataframe tbody tr th:only-of-type {\n",
       "        vertical-align: middle;\n",
       "    }\n",
       "\n",
       "    .dataframe tbody tr th {\n",
       "        vertical-align: top;\n",
       "    }\n",
       "\n",
       "    .dataframe thead th {\n",
       "        text-align: right;\n",
       "    }\n",
       "</style>\n",
       "<table border=\"1\" class=\"dataframe\">\n",
       "  <thead>\n",
       "    <tr style=\"text-align: right;\">\n",
       "      <th></th>\n",
       "      <th>Description</th>\n",
       "      <th>Quantity</th>\n",
       "      <th>InvoiceDate</th>\n",
       "      <th>UnitPrice</th>\n",
       "      <th>CustomerID</th>\n",
       "      <th>Country</th>\n",
       "    </tr>\n",
       "  </thead>\n",
       "  <tbody>\n",
       "    <tr>\n",
       "      <th>0</th>\n",
       "      <td>WHITE HANGING HEART T-LIGHT HOLDER</td>\n",
       "      <td>6</td>\n",
       "      <td>12/1/2010 8:26</td>\n",
       "      <td>2.55</td>\n",
       "      <td>17850.0</td>\n",
       "      <td>United Kingdom</td>\n",
       "    </tr>\n",
       "    <tr>\n",
       "      <th>1</th>\n",
       "      <td>WHITE METAL LANTERN</td>\n",
       "      <td>6</td>\n",
       "      <td>12/1/2010 8:26</td>\n",
       "      <td>3.39</td>\n",
       "      <td>17850.0</td>\n",
       "      <td>United Kingdom</td>\n",
       "    </tr>\n",
       "    <tr>\n",
       "      <th>2</th>\n",
       "      <td>CREAM CUPID HEARTS COAT HANGER</td>\n",
       "      <td>8</td>\n",
       "      <td>12/1/2010 8:26</td>\n",
       "      <td>2.75</td>\n",
       "      <td>17850.0</td>\n",
       "      <td>United Kingdom</td>\n",
       "    </tr>\n",
       "    <tr>\n",
       "      <th>3</th>\n",
       "      <td>KNITTED UNION FLAG HOT WATER BOTTLE</td>\n",
       "      <td>6</td>\n",
       "      <td>12/1/2010 8:26</td>\n",
       "      <td>3.39</td>\n",
       "      <td>17850.0</td>\n",
       "      <td>United Kingdom</td>\n",
       "    </tr>\n",
       "    <tr>\n",
       "      <th>4</th>\n",
       "      <td>RED WOOLLY HOTTIE WHITE HEART.</td>\n",
       "      <td>6</td>\n",
       "      <td>12/1/2010 8:26</td>\n",
       "      <td>3.39</td>\n",
       "      <td>17850.0</td>\n",
       "      <td>United Kingdom</td>\n",
       "    </tr>\n",
       "  </tbody>\n",
       "</table>\n",
       "</div>"
      ],
      "text/plain": [
       "                           Description  Quantity     InvoiceDate  UnitPrice  \\\n",
       "0   WHITE HANGING HEART T-LIGHT HOLDER         6  12/1/2010 8:26       2.55   \n",
       "1                  WHITE METAL LANTERN         6  12/1/2010 8:26       3.39   \n",
       "2       CREAM CUPID HEARTS COAT HANGER         8  12/1/2010 8:26       2.75   \n",
       "3  KNITTED UNION FLAG HOT WATER BOTTLE         6  12/1/2010 8:26       3.39   \n",
       "4       RED WOOLLY HOTTIE WHITE HEART.         6  12/1/2010 8:26       3.39   \n",
       "\n",
       "   CustomerID         Country  \n",
       "0     17850.0  United Kingdom  \n",
       "1     17850.0  United Kingdom  \n",
       "2     17850.0  United Kingdom  \n",
       "3     17850.0  United Kingdom  \n",
       "4     17850.0  United Kingdom  "
      ]
     },
     "execution_count": 11,
     "metadata": {},
     "output_type": "execute_result"
    }
   ],
   "source": [
    "data.drop(['InvoiceNo','StockCode'],axis=1,inplace=True)\n",
    "data.head()"
   ]
  },
  {
   "cell_type": "markdown",
   "id": "700b83f1",
   "metadata": {},
   "source": [
    "##### VECTORISATION DE LA COLONNE DESCRIPTION"
   ]
  },
  {
   "cell_type": "markdown",
   "id": "4f716c89",
   "metadata": {},
   "source": [
    "Creons une fonction qui nettoie la colonne description.Il utilise des expressions regulieres pour supprimer la ponctuation et reduire les majuscules."
   ]
  },
  {
   "cell_type": "code",
   "execution_count": 12,
   "id": "4896b647",
   "metadata": {},
   "outputs": [],
   "source": [
    "#Creation de la fonction clean\n",
    "import re\n",
    "def clean(description):\n",
    "    return re.sub(r'[^\\w\\s]','',description).lower()"
   ]
  },
  {
   "cell_type": "code",
   "execution_count": 13,
   "id": "954b55c6",
   "metadata": {},
   "outputs": [
    {
     "data": {
      "text/plain": [
       "'hi'"
      ]
     },
     "execution_count": 13,
     "metadata": {},
     "output_type": "execute_result"
    }
   ],
   "source": [
    "#Une demonstration de la fonction clean.\n",
    "clean('HI,!!!')"
   ]
  },
  {
   "cell_type": "code",
   "execution_count": 14,
   "id": "4e8b2369",
   "metadata": {},
   "outputs": [
    {
     "data": {
      "text/html": [
       "<div>\n",
       "<style scoped>\n",
       "    .dataframe tbody tr th:only-of-type {\n",
       "        vertical-align: middle;\n",
       "    }\n",
       "\n",
       "    .dataframe tbody tr th {\n",
       "        vertical-align: top;\n",
       "    }\n",
       "\n",
       "    .dataframe thead th {\n",
       "        text-align: right;\n",
       "    }\n",
       "</style>\n",
       "<table border=\"1\" class=\"dataframe\">\n",
       "  <thead>\n",
       "    <tr style=\"text-align: right;\">\n",
       "      <th></th>\n",
       "      <th>Description</th>\n",
       "      <th>Quantity</th>\n",
       "      <th>InvoiceDate</th>\n",
       "      <th>UnitPrice</th>\n",
       "      <th>CustomerID</th>\n",
       "      <th>Country</th>\n",
       "    </tr>\n",
       "  </thead>\n",
       "  <tbody>\n",
       "    <tr>\n",
       "      <th>0</th>\n",
       "      <td>white hanging heart tlight holder</td>\n",
       "      <td>6</td>\n",
       "      <td>12/1/2010 8:26</td>\n",
       "      <td>2.55</td>\n",
       "      <td>17850.0</td>\n",
       "      <td>United Kingdom</td>\n",
       "    </tr>\n",
       "    <tr>\n",
       "      <th>1</th>\n",
       "      <td>white metal lantern</td>\n",
       "      <td>6</td>\n",
       "      <td>12/1/2010 8:26</td>\n",
       "      <td>3.39</td>\n",
       "      <td>17850.0</td>\n",
       "      <td>United Kingdom</td>\n",
       "    </tr>\n",
       "    <tr>\n",
       "      <th>2</th>\n",
       "      <td>cream cupid hearts coat hanger</td>\n",
       "      <td>8</td>\n",
       "      <td>12/1/2010 8:26</td>\n",
       "      <td>2.75</td>\n",
       "      <td>17850.0</td>\n",
       "      <td>United Kingdom</td>\n",
       "    </tr>\n",
       "    <tr>\n",
       "      <th>3</th>\n",
       "      <td>knitted union flag hot water bottle</td>\n",
       "      <td>6</td>\n",
       "      <td>12/1/2010 8:26</td>\n",
       "      <td>3.39</td>\n",
       "      <td>17850.0</td>\n",
       "      <td>United Kingdom</td>\n",
       "    </tr>\n",
       "    <tr>\n",
       "      <th>4</th>\n",
       "      <td>red woolly hottie white heart</td>\n",
       "      <td>6</td>\n",
       "      <td>12/1/2010 8:26</td>\n",
       "      <td>3.39</td>\n",
       "      <td>17850.0</td>\n",
       "      <td>United Kingdom</td>\n",
       "    </tr>\n",
       "  </tbody>\n",
       "</table>\n",
       "</div>"
      ],
      "text/plain": [
       "                           Description  Quantity     InvoiceDate  UnitPrice  \\\n",
       "0    white hanging heart tlight holder         6  12/1/2010 8:26       2.55   \n",
       "1                  white metal lantern         6  12/1/2010 8:26       3.39   \n",
       "2       cream cupid hearts coat hanger         8  12/1/2010 8:26       2.75   \n",
       "3  knitted union flag hot water bottle         6  12/1/2010 8:26       3.39   \n",
       "4        red woolly hottie white heart         6  12/1/2010 8:26       3.39   \n",
       "\n",
       "   CustomerID         Country  \n",
       "0     17850.0  United Kingdom  \n",
       "1     17850.0  United Kingdom  \n",
       "2     17850.0  United Kingdom  \n",
       "3     17850.0  United Kingdom  \n",
       "4     17850.0  United Kingdom  "
      ]
     },
     "execution_count": 14,
     "metadata": {},
     "output_type": "execute_result"
    }
   ],
   "source": [
    "# Utilisons la fonction apply pour appliquer la fonction clean a la colonne description.\n",
    "data['Description']=data['Description'].apply(clean)\n",
    "data.head()"
   ]
  },
  {
   "cell_type": "code",
   "execution_count": 15,
   "id": "74d77c8b",
   "metadata": {},
   "outputs": [],
   "source": [
    "# Reinitialiser l'index et créer une nouvelle colonne.\n",
    "\n",
    "data=data.reset_index().drop('index',axis=1)"
   ]
  },
  {
   "cell_type": "code",
   "execution_count": 16,
   "id": "72e3a9fc",
   "metadata": {},
   "outputs": [],
   "source": [
    "# Creons une colonne qui est le montant total d'argent.\n",
    "data['total']= data['UnitPrice']*data['Quantity']"
   ]
  },
  {
   "cell_type": "code",
   "execution_count": 17,
   "id": "411c1434",
   "metadata": {},
   "outputs": [],
   "source": [
    "# Vectorisation simple de sac de mot( au lieu  TD IDF qui convient mieux aux long textes)\n",
    "\n",
    "from sklearn.feature_extraction.text import CountVectorizer\n",
    "vectorizer=CountVectorizer(stop_words='english')"
   ]
  },
  {
   "cell_type": "code",
   "execution_count": 18,
   "id": "c53a0e33",
   "metadata": {},
   "outputs": [
    {
     "data": {
      "text/plain": [
       "<406829x2093 sparse matrix of type '<class 'numpy.int64'>'\n",
       "\twith 1640936 stored elements in Compressed Sparse Row format>"
      ]
     },
     "execution_count": 18,
     "metadata": {},
     "output_type": "execute_result"
    }
   ],
   "source": [
    "# Ajustons le vectorizeur sur les données et effectuons une transformation.\n",
    "\n",
    "descriptions= vectorizer.fit_transform(data['Description'])\n",
    "descriptions\n"
   ]
  },
  {
   "cell_type": "markdown",
   "id": "c5cfcf00",
   "metadata": {},
   "source": [
    "###### REGROUPONS LES PRODUITS ET DREONS DES FONCTIONNALITES"
   ]
  },
  {
   "cell_type": "code",
   "execution_count": 19,
   "id": "c2ca1d9d",
   "metadata": {},
   "outputs": [
    {
     "data": {
      "text/plain": [
       "KMeans(n_clusters=5)"
      ]
     },
     "execution_count": 19,
     "metadata": {},
     "output_type": "execute_result"
    }
   ],
   "source": [
    "from sklearn.cluster import KMeans\n",
    "kmeans= KMeans(n_clusters=5)\n",
    "kmeans.fit(descriptions)"
   ]
  },
  {
   "cell_type": "code",
   "execution_count": 20,
   "id": "f6addb01",
   "metadata": {},
   "outputs": [
    {
     "data": {
      "text/html": [
       "<div>\n",
       "<style scoped>\n",
       "    .dataframe tbody tr th:only-of-type {\n",
       "        vertical-align: middle;\n",
       "    }\n",
       "\n",
       "    .dataframe tbody tr th {\n",
       "        vertical-align: top;\n",
       "    }\n",
       "\n",
       "    .dataframe thead th {\n",
       "        text-align: right;\n",
       "    }\n",
       "</style>\n",
       "<table border=\"1\" class=\"dataframe\">\n",
       "  <thead>\n",
       "    <tr style=\"text-align: right;\">\n",
       "      <th></th>\n",
       "      <th>Description</th>\n",
       "      <th>Quantity</th>\n",
       "      <th>InvoiceDate</th>\n",
       "      <th>UnitPrice</th>\n",
       "      <th>CustomerID</th>\n",
       "      <th>Country</th>\n",
       "      <th>total</th>\n",
       "      <th>Product</th>\n",
       "    </tr>\n",
       "  </thead>\n",
       "  <tbody>\n",
       "    <tr>\n",
       "      <th>0</th>\n",
       "      <td>white hanging heart tlight holder</td>\n",
       "      <td>6</td>\n",
       "      <td>12/1/2010 8:26</td>\n",
       "      <td>2.55</td>\n",
       "      <td>17850.0</td>\n",
       "      <td>United Kingdom</td>\n",
       "      <td>15.30</td>\n",
       "      <td>2</td>\n",
       "    </tr>\n",
       "    <tr>\n",
       "      <th>1</th>\n",
       "      <td>white metal lantern</td>\n",
       "      <td>6</td>\n",
       "      <td>12/1/2010 8:26</td>\n",
       "      <td>3.39</td>\n",
       "      <td>17850.0</td>\n",
       "      <td>United Kingdom</td>\n",
       "      <td>20.34</td>\n",
       "      <td>2</td>\n",
       "    </tr>\n",
       "    <tr>\n",
       "      <th>2</th>\n",
       "      <td>cream cupid hearts coat hanger</td>\n",
       "      <td>8</td>\n",
       "      <td>12/1/2010 8:26</td>\n",
       "      <td>2.75</td>\n",
       "      <td>17850.0</td>\n",
       "      <td>United Kingdom</td>\n",
       "      <td>22.00</td>\n",
       "      <td>2</td>\n",
       "    </tr>\n",
       "    <tr>\n",
       "      <th>3</th>\n",
       "      <td>knitted union flag hot water bottle</td>\n",
       "      <td>6</td>\n",
       "      <td>12/1/2010 8:26</td>\n",
       "      <td>3.39</td>\n",
       "      <td>17850.0</td>\n",
       "      <td>United Kingdom</td>\n",
       "      <td>20.34</td>\n",
       "      <td>2</td>\n",
       "    </tr>\n",
       "    <tr>\n",
       "      <th>4</th>\n",
       "      <td>red woolly hottie white heart</td>\n",
       "      <td>6</td>\n",
       "      <td>12/1/2010 8:26</td>\n",
       "      <td>3.39</td>\n",
       "      <td>17850.0</td>\n",
       "      <td>United Kingdom</td>\n",
       "      <td>20.34</td>\n",
       "      <td>1</td>\n",
       "    </tr>\n",
       "  </tbody>\n",
       "</table>\n",
       "</div>"
      ],
      "text/plain": [
       "                           Description  Quantity     InvoiceDate  UnitPrice  \\\n",
       "0    white hanging heart tlight holder         6  12/1/2010 8:26       2.55   \n",
       "1                  white metal lantern         6  12/1/2010 8:26       3.39   \n",
       "2       cream cupid hearts coat hanger         8  12/1/2010 8:26       2.75   \n",
       "3  knitted union flag hot water bottle         6  12/1/2010 8:26       3.39   \n",
       "4        red woolly hottie white heart         6  12/1/2010 8:26       3.39   \n",
       "\n",
       "   CustomerID         Country  total  Product  \n",
       "0     17850.0  United Kingdom  15.30        2  \n",
       "1     17850.0  United Kingdom  20.34        2  \n",
       "2     17850.0  United Kingdom  22.00        2  \n",
       "3     17850.0  United Kingdom  20.34        2  \n",
       "4     17850.0  United Kingdom  20.34        1  "
      ]
     },
     "execution_count": 20,
     "metadata": {},
     "output_type": "execute_result"
    }
   ],
   "source": [
    "# Attribuer a chaque article achetté quelque soit l'étiquette une nouvelle colonne product\n",
    "\n",
    "data['Product']=kmeans.labels_\n",
    "\n",
    "data.head()"
   ]
  },
  {
   "cell_type": "code",
   "execution_count": 21,
   "id": "807c1973",
   "metadata": {},
   "outputs": [
    {
     "data": {
      "text/html": [
       "<div>\n",
       "<style scoped>\n",
       "    .dataframe tbody tr th:only-of-type {\n",
       "        vertical-align: middle;\n",
       "    }\n",
       "\n",
       "    .dataframe tbody tr th {\n",
       "        vertical-align: top;\n",
       "    }\n",
       "\n",
       "    .dataframe thead th {\n",
       "        text-align: right;\n",
       "    }\n",
       "</style>\n",
       "<table border=\"1\" class=\"dataframe\">\n",
       "  <thead>\n",
       "    <tr style=\"text-align: right;\">\n",
       "      <th></th>\n",
       "      <th>CustomerID</th>\n",
       "    </tr>\n",
       "  </thead>\n",
       "  <tbody>\n",
       "    <tr>\n",
       "      <th>0</th>\n",
       "      <td>17850.0</td>\n",
       "    </tr>\n",
       "    <tr>\n",
       "      <th>1</th>\n",
       "      <td>13047.0</td>\n",
       "    </tr>\n",
       "    <tr>\n",
       "      <th>2</th>\n",
       "      <td>12583.0</td>\n",
       "    </tr>\n",
       "    <tr>\n",
       "      <th>3</th>\n",
       "      <td>13748.0</td>\n",
       "    </tr>\n",
       "    <tr>\n",
       "      <th>4</th>\n",
       "      <td>15100.0</td>\n",
       "    </tr>\n",
       "  </tbody>\n",
       "</table>\n",
       "</div>"
      ],
      "text/plain": [
       "   CustomerID\n",
       "0     17850.0\n",
       "1     13047.0\n",
       "2     12583.0\n",
       "3     13748.0\n",
       "4     15100.0"
      ]
     },
     "execution_count": 21,
     "metadata": {},
     "output_type": "execute_result"
    }
   ],
   "source": [
    "# Creons un nouveau DataFrame nommé customer.\n",
    "clients = pd.DataFrame({'CustomerID':data['CustomerID'].unique()})\n",
    "clients.head()"
   ]
  },
  {
   "cell_type": "code",
   "execution_count": 22,
   "id": "35e7e3ff",
   "metadata": {},
   "outputs": [
    {
     "data": {
      "text/html": [
       "<div>\n",
       "<style scoped>\n",
       "    .dataframe tbody tr th:only-of-type {\n",
       "        vertical-align: middle;\n",
       "    }\n",
       "\n",
       "    .dataframe tbody tr th {\n",
       "        vertical-align: top;\n",
       "    }\n",
       "\n",
       "    .dataframe thead th {\n",
       "        text-align: right;\n",
       "    }\n",
       "</style>\n",
       "<table border=\"1\" class=\"dataframe\">\n",
       "  <thead>\n",
       "    <tr style=\"text-align: right;\">\n",
       "      <th></th>\n",
       "      <th>CustomerID</th>\n",
       "      <th>Product0</th>\n",
       "      <th>Product1</th>\n",
       "      <th>Product2</th>\n",
       "      <th>Product3</th>\n",
       "      <th>Product4</th>\n",
       "    </tr>\n",
       "  </thead>\n",
       "  <tbody>\n",
       "    <tr>\n",
       "      <th>0</th>\n",
       "      <td>17850.0</td>\n",
       "      <td>0</td>\n",
       "      <td>0</td>\n",
       "      <td>0</td>\n",
       "      <td>0</td>\n",
       "      <td>0</td>\n",
       "    </tr>\n",
       "    <tr>\n",
       "      <th>1</th>\n",
       "      <td>13047.0</td>\n",
       "      <td>0</td>\n",
       "      <td>0</td>\n",
       "      <td>0</td>\n",
       "      <td>0</td>\n",
       "      <td>0</td>\n",
       "    </tr>\n",
       "    <tr>\n",
       "      <th>2</th>\n",
       "      <td>12583.0</td>\n",
       "      <td>0</td>\n",
       "      <td>0</td>\n",
       "      <td>0</td>\n",
       "      <td>0</td>\n",
       "      <td>0</td>\n",
       "    </tr>\n",
       "    <tr>\n",
       "      <th>3</th>\n",
       "      <td>13748.0</td>\n",
       "      <td>0</td>\n",
       "      <td>0</td>\n",
       "      <td>0</td>\n",
       "      <td>0</td>\n",
       "      <td>0</td>\n",
       "    </tr>\n",
       "    <tr>\n",
       "      <th>4</th>\n",
       "      <td>15100.0</td>\n",
       "      <td>0</td>\n",
       "      <td>0</td>\n",
       "      <td>0</td>\n",
       "      <td>0</td>\n",
       "      <td>0</td>\n",
       "    </tr>\n",
       "  </tbody>\n",
       "</table>\n",
       "</div>"
      ],
      "text/plain": [
       "   CustomerID  Product0  Product1  Product2  Product3  Product4\n",
       "0     17850.0         0         0         0         0         0\n",
       "1     13047.0         0         0         0         0         0\n",
       "2     12583.0         0         0         0         0         0\n",
       "3     13748.0         0         0         0         0         0\n",
       "4     15100.0         0         0         0         0         0"
      ]
     },
     "execution_count": 22,
     "metadata": {},
     "output_type": "execute_result"
    }
   ],
   "source": [
    "# Creons 5 colonnes; une pour chaque categorie produit\n",
    "clients['Product0']=0\n",
    "clients['Product1']=0\n",
    "clients['Product2']=0\n",
    "clients['Product3']=0\n",
    "clients['Product4']=0\n",
    "clients.head()"
   ]
  },
  {
   "cell_type": "code",
   "execution_count": 23,
   "id": "13e6f6a9",
   "metadata": {},
   "outputs": [
    {
     "name": "stderr",
     "output_type": "stream",
     "text": [
      "100%|█████████████████████████████████████████████████████████████████████████| 406829/406829 [07:10<00:00, 944.63it/s]\n"
     ]
    }
   ],
   "source": [
    "# Remplissage du DataFrame Client\n",
    "from tqdm import tqdm\n",
    "\n",
    "for index in tqdm(range(len(data))):\n",
    "    customerID=data.loc[index,'CustomerID']\n",
    "    product_category=data.loc[index, 'Product']\n",
    "    product_price=data.loc[index, 'total']\n",
    "    customers_table_index=clients[clients['CustomerID']==customerID].index[0]\n",
    "    clients.loc[customers_table_index,'Product'+str(product_category)]+= product_price"
   ]
  },
  {
   "cell_type": "code",
   "execution_count": 24,
   "id": "e18a8e2c",
   "metadata": {},
   "outputs": [
    {
     "data": {
      "text/html": [
       "<div>\n",
       "<style scoped>\n",
       "    .dataframe tbody tr th:only-of-type {\n",
       "        vertical-align: middle;\n",
       "    }\n",
       "\n",
       "    .dataframe tbody tr th {\n",
       "        vertical-align: top;\n",
       "    }\n",
       "\n",
       "    .dataframe thead th {\n",
       "        text-align: right;\n",
       "    }\n",
       "</style>\n",
       "<table border=\"1\" class=\"dataframe\">\n",
       "  <thead>\n",
       "    <tr style=\"text-align: right;\">\n",
       "      <th></th>\n",
       "      <th>Description</th>\n",
       "      <th>Quantity</th>\n",
       "      <th>InvoiceDate</th>\n",
       "      <th>UnitPrice</th>\n",
       "      <th>CustomerID</th>\n",
       "      <th>Country</th>\n",
       "      <th>total</th>\n",
       "      <th>Product</th>\n",
       "    </tr>\n",
       "  </thead>\n",
       "  <tbody>\n",
       "    <tr>\n",
       "      <th>0</th>\n",
       "      <td>white hanging heart tlight holder</td>\n",
       "      <td>6</td>\n",
       "      <td>12/1/2010 8:26</td>\n",
       "      <td>2.55</td>\n",
       "      <td>17850.0</td>\n",
       "      <td>United Kingdom</td>\n",
       "      <td>15.30</td>\n",
       "      <td>2</td>\n",
       "    </tr>\n",
       "    <tr>\n",
       "      <th>1</th>\n",
       "      <td>white metal lantern</td>\n",
       "      <td>6</td>\n",
       "      <td>12/1/2010 8:26</td>\n",
       "      <td>3.39</td>\n",
       "      <td>17850.0</td>\n",
       "      <td>United Kingdom</td>\n",
       "      <td>20.34</td>\n",
       "      <td>2</td>\n",
       "    </tr>\n",
       "    <tr>\n",
       "      <th>2</th>\n",
       "      <td>cream cupid hearts coat hanger</td>\n",
       "      <td>8</td>\n",
       "      <td>12/1/2010 8:26</td>\n",
       "      <td>2.75</td>\n",
       "      <td>17850.0</td>\n",
       "      <td>United Kingdom</td>\n",
       "      <td>22.00</td>\n",
       "      <td>2</td>\n",
       "    </tr>\n",
       "    <tr>\n",
       "      <th>3</th>\n",
       "      <td>knitted union flag hot water bottle</td>\n",
       "      <td>6</td>\n",
       "      <td>12/1/2010 8:26</td>\n",
       "      <td>3.39</td>\n",
       "      <td>17850.0</td>\n",
       "      <td>United Kingdom</td>\n",
       "      <td>20.34</td>\n",
       "      <td>2</td>\n",
       "    </tr>\n",
       "    <tr>\n",
       "      <th>4</th>\n",
       "      <td>red woolly hottie white heart</td>\n",
       "      <td>6</td>\n",
       "      <td>12/1/2010 8:26</td>\n",
       "      <td>3.39</td>\n",
       "      <td>17850.0</td>\n",
       "      <td>United Kingdom</td>\n",
       "      <td>20.34</td>\n",
       "      <td>1</td>\n",
       "    </tr>\n",
       "    <tr>\n",
       "      <th>...</th>\n",
       "      <td>...</td>\n",
       "      <td>...</td>\n",
       "      <td>...</td>\n",
       "      <td>...</td>\n",
       "      <td>...</td>\n",
       "      <td>...</td>\n",
       "      <td>...</td>\n",
       "      <td>...</td>\n",
       "    </tr>\n",
       "    <tr>\n",
       "      <th>406824</th>\n",
       "      <td>pack of 20 spaceboy napkins</td>\n",
       "      <td>12</td>\n",
       "      <td>12/9/2011 12:50</td>\n",
       "      <td>0.85</td>\n",
       "      <td>12680.0</td>\n",
       "      <td>France</td>\n",
       "      <td>10.20</td>\n",
       "      <td>0</td>\n",
       "    </tr>\n",
       "    <tr>\n",
       "      <th>406825</th>\n",
       "      <td>childrens apron dolly girl</td>\n",
       "      <td>6</td>\n",
       "      <td>12/9/2011 12:50</td>\n",
       "      <td>2.10</td>\n",
       "      <td>12680.0</td>\n",
       "      <td>France</td>\n",
       "      <td>12.60</td>\n",
       "      <td>2</td>\n",
       "    </tr>\n",
       "    <tr>\n",
       "      <th>406826</th>\n",
       "      <td>childrens cutlery dolly girl</td>\n",
       "      <td>4</td>\n",
       "      <td>12/9/2011 12:50</td>\n",
       "      <td>4.15</td>\n",
       "      <td>12680.0</td>\n",
       "      <td>France</td>\n",
       "      <td>16.60</td>\n",
       "      <td>2</td>\n",
       "    </tr>\n",
       "    <tr>\n",
       "      <th>406827</th>\n",
       "      <td>childrens cutlery circus parade</td>\n",
       "      <td>4</td>\n",
       "      <td>12/9/2011 12:50</td>\n",
       "      <td>4.15</td>\n",
       "      <td>12680.0</td>\n",
       "      <td>France</td>\n",
       "      <td>16.60</td>\n",
       "      <td>2</td>\n",
       "    </tr>\n",
       "    <tr>\n",
       "      <th>406828</th>\n",
       "      <td>baking set 9 piece retrospot</td>\n",
       "      <td>3</td>\n",
       "      <td>12/9/2011 12:50</td>\n",
       "      <td>4.95</td>\n",
       "      <td>12680.0</td>\n",
       "      <td>France</td>\n",
       "      <td>14.85</td>\n",
       "      <td>3</td>\n",
       "    </tr>\n",
       "  </tbody>\n",
       "</table>\n",
       "<p>406829 rows × 8 columns</p>\n",
       "</div>"
      ],
      "text/plain": [
       "                                Description  Quantity      InvoiceDate  \\\n",
       "0         white hanging heart tlight holder         6   12/1/2010 8:26   \n",
       "1                       white metal lantern         6   12/1/2010 8:26   \n",
       "2            cream cupid hearts coat hanger         8   12/1/2010 8:26   \n",
       "3       knitted union flag hot water bottle         6   12/1/2010 8:26   \n",
       "4             red woolly hottie white heart         6   12/1/2010 8:26   \n",
       "...                                     ...       ...              ...   \n",
       "406824          pack of 20 spaceboy napkins        12  12/9/2011 12:50   \n",
       "406825          childrens apron dolly girl          6  12/9/2011 12:50   \n",
       "406826        childrens cutlery dolly girl          4  12/9/2011 12:50   \n",
       "406827      childrens cutlery circus parade         4  12/9/2011 12:50   \n",
       "406828        baking set 9 piece retrospot          3  12/9/2011 12:50   \n",
       "\n",
       "        UnitPrice  CustomerID         Country  total  Product  \n",
       "0            2.55     17850.0  United Kingdom  15.30        2  \n",
       "1            3.39     17850.0  United Kingdom  20.34        2  \n",
       "2            2.75     17850.0  United Kingdom  22.00        2  \n",
       "3            3.39     17850.0  United Kingdom  20.34        2  \n",
       "4            3.39     17850.0  United Kingdom  20.34        1  \n",
       "...           ...         ...             ...    ...      ...  \n",
       "406824       0.85     12680.0          France  10.20        0  \n",
       "406825       2.10     12680.0          France  12.60        2  \n",
       "406826       4.15     12680.0          France  16.60        2  \n",
       "406827       4.15     12680.0          France  16.60        2  \n",
       "406828       4.95     12680.0          France  14.85        3  \n",
       "\n",
       "[406829 rows x 8 columns]"
      ]
     },
     "execution_count": 24,
     "metadata": {},
     "output_type": "execute_result"
    }
   ],
   "source": [
    "data"
   ]
  },
  {
   "cell_type": "markdown",
   "id": "6e6e3396",
   "metadata": {},
   "source": [
    "##### CREONS DES DESCRIPTIONS D'HISTORIQUES D'ACHHATS. "
   ]
  },
  {
   "cell_type": "markdown",
   "id": "cafe1b2e",
   "metadata": {},
   "source": [
    "nous créons 5 colonnes (nombre,maximum,minimum,moyennne,somme) qui sont cinq indicateurs numerique de l'historique d'achat d'un client."
   ]
  },
  {
   "cell_type": "code",
   "execution_count": 25,
   "id": "a7f4f9f6",
   "metadata": {},
   "outputs": [
    {
     "data": {
      "text/html": [
       "<div>\n",
       "<style scoped>\n",
       "    .dataframe tbody tr th:only-of-type {\n",
       "        vertical-align: middle;\n",
       "    }\n",
       "\n",
       "    .dataframe tbody tr th {\n",
       "        vertical-align: top;\n",
       "    }\n",
       "\n",
       "    .dataframe thead th {\n",
       "        text-align: right;\n",
       "    }\n",
       "</style>\n",
       "<table border=\"1\" class=\"dataframe\">\n",
       "  <thead>\n",
       "    <tr style=\"text-align: right;\">\n",
       "      <th></th>\n",
       "      <th>CustomerID</th>\n",
       "      <th>Product0</th>\n",
       "      <th>Product1</th>\n",
       "      <th>Product2</th>\n",
       "      <th>Product3</th>\n",
       "      <th>Product4</th>\n",
       "      <th>PurchaseCount</th>\n",
       "      <th>PurchaseMin</th>\n",
       "      <th>PurchaseMax</th>\n",
       "      <th>PurchaseMean</th>\n",
       "      <th>PurchaseSum</th>\n",
       "    </tr>\n",
       "  </thead>\n",
       "  <tbody>\n",
       "    <tr>\n",
       "      <th>0</th>\n",
       "      <td>17850.0</td>\n",
       "      <td>0.00</td>\n",
       "      <td>848.16</td>\n",
       "      <td>4119.17</td>\n",
       "      <td>321.30</td>\n",
       "      <td>0.0</td>\n",
       "      <td>0</td>\n",
       "      <td>0</td>\n",
       "      <td>0</td>\n",
       "      <td>0</td>\n",
       "      <td>0</td>\n",
       "    </tr>\n",
       "    <tr>\n",
       "      <th>1</th>\n",
       "      <td>13047.0</td>\n",
       "      <td>34.68</td>\n",
       "      <td>43.05</td>\n",
       "      <td>2482.99</td>\n",
       "      <td>518.38</td>\n",
       "      <td>0.0</td>\n",
       "      <td>0</td>\n",
       "      <td>0</td>\n",
       "      <td>0</td>\n",
       "      <td>0</td>\n",
       "      <td>0</td>\n",
       "    </tr>\n",
       "    <tr>\n",
       "      <th>2</th>\n",
       "      <td>12583.0</td>\n",
       "      <td>185.64</td>\n",
       "      <td>1446.34</td>\n",
       "      <td>4097.32</td>\n",
       "      <td>1373.34</td>\n",
       "      <td>84.7</td>\n",
       "      <td>0</td>\n",
       "      <td>0</td>\n",
       "      <td>0</td>\n",
       "      <td>0</td>\n",
       "      <td>0</td>\n",
       "    </tr>\n",
       "    <tr>\n",
       "      <th>3</th>\n",
       "      <td>13748.0</td>\n",
       "      <td>47.76</td>\n",
       "      <td>0.00</td>\n",
       "      <td>848.41</td>\n",
       "      <td>52.08</td>\n",
       "      <td>0.0</td>\n",
       "      <td>0</td>\n",
       "      <td>0</td>\n",
       "      <td>0</td>\n",
       "      <td>0</td>\n",
       "      <td>0</td>\n",
       "    </tr>\n",
       "    <tr>\n",
       "      <th>4</th>\n",
       "      <td>15100.0</td>\n",
       "      <td>0.00</td>\n",
       "      <td>0.00</td>\n",
       "      <td>635.10</td>\n",
       "      <td>0.00</td>\n",
       "      <td>0.0</td>\n",
       "      <td>0</td>\n",
       "      <td>0</td>\n",
       "      <td>0</td>\n",
       "      <td>0</td>\n",
       "      <td>0</td>\n",
       "    </tr>\n",
       "  </tbody>\n",
       "</table>\n",
       "</div>"
      ],
      "text/plain": [
       "   CustomerID  Product0  Product1  Product2  Product3  Product4  \\\n",
       "0     17850.0      0.00    848.16   4119.17    321.30       0.0   \n",
       "1     13047.0     34.68     43.05   2482.99    518.38       0.0   \n",
       "2     12583.0    185.64   1446.34   4097.32   1373.34      84.7   \n",
       "3     13748.0     47.76      0.00    848.41     52.08       0.0   \n",
       "4     15100.0      0.00      0.00    635.10      0.00       0.0   \n",
       "\n",
       "   PurchaseCount  PurchaseMin  PurchaseMax  PurchaseMean  PurchaseSum  \n",
       "0              0            0            0             0            0  \n",
       "1              0            0            0             0            0  \n",
       "2              0            0            0             0            0  \n",
       "3              0            0            0             0            0  \n",
       "4              0            0            0             0            0  "
      ]
     },
     "execution_count": 25,
     "metadata": {},
     "output_type": "execute_result"
    }
   ],
   "source": [
    "clients['PurchaseCount']=0\n",
    "clients['PurchaseMin']=0\n",
    "clients['PurchaseMax']=0\n",
    "clients['PurchaseMean']=0\n",
    "clients['PurchaseSum']=0\n",
    "clients.head()\n"
   ]
  },
  {
   "cell_type": "code",
   "execution_count": 39,
   "id": "14370285",
   "metadata": {},
   "outputs": [
    {
     "name": "stderr",
     "output_type": "stream",
     "text": [
      "100%|████████████████████████████████████████████████████████████████████████| 406829/406829 [3:34:57<00:00, 31.54it/s]\n"
     ]
    }
   ],
   "source": [
    "from tqdm import tqdm \n",
    "for index in tqdm(range(len(clients))):\n",
    "    customerID=clients.loc[index,'CustomerID']\n",
    "    history=data[data['CustomerID']==customerID]['total']\n",
    "    clients.loc[index,'PurchaseCount']=history.count()\n",
    "    clients.loc[index,'PurchaseMin']=history.min()\n",
    "    clients.loc[index,'PurchaseMax']=history.max()\n",
    "    clients.loc[index,'PurchaseMean']=history.mean()\n",
    "    clients.loc[index,'PurchaseSum']=history.sum()"
   ]
  },
  {
   "cell_type": "markdown",
   "id": "fdd615f1",
   "metadata": {},
   "source": [
    "##### Mise en place d'une fonctionnalité etrangere."
   ]
  },
  {
   "cell_type": "markdown",
   "id": "171d58c0",
   "metadata": {},
   "source": [
    "Il s'agit de savoir si un client vient du Royaume Uni ou pas\n",
    "(Effectuer des recherches pour cette partie)."
   ]
  },
  {
   "cell_type": "code",
   "execution_count": 27,
   "id": "f1cceaee",
   "metadata": {},
   "outputs": [],
   "source": [
    "# Creation de la colonne Etranger\n",
    "clients['Etranger']=0"
   ]
  },
  {
   "cell_type": "code",
   "execution_count": null,
   "id": "99447534",
   "metadata": {},
   "outputs": [],
   "source": []
  },
  {
   "cell_type": "code",
   "execution_count": 83,
   "id": "86824409",
   "metadata": {},
   "outputs": [],
   "source": [
    "# for index in tqdm(range(len(clients))):\n",
    "#     customerID=clients.loc[index,'CustomerID']\n",
    "#     customerCountry= data[data['CustomerID']==customerID].reset_index().loc[0,'Country']\n",
    "#     if customerCountry!='Royaume-Uni':\n",
    "#         clients.loc[index,'Foreign']=1\n",
    "    "
   ]
  },
  {
   "cell_type": "markdown",
   "id": "28e40c8c",
   "metadata": {},
   "source": [
    "##### Mise en place des clusters  (Utilisation d'un score de silhouette)"
   ]
  },
  {
   "cell_type": "markdown",
   "id": "a57aa289",
   "metadata": {},
   "source": [
    "MISE A L'ECHELLE DES DONNEES"
   ]
  },
  {
   "cell_type": "code",
   "execution_count": 45,
   "id": "ed54e951",
   "metadata": {},
   "outputs": [],
   "source": [
    "from sklearn.preprocessing import StandardScaler\n",
    "\n",
    "scaler=StandardScaler()\n",
    "scaled_customers=scaler.fit_transform(clients)\n"
   ]
  },
  {
   "cell_type": "code",
   "execution_count": null,
   "id": "6d026a6b",
   "metadata": {},
   "outputs": [],
   "source": []
  },
  {
   "cell_type": "code",
   "execution_count": null,
   "id": "6a2e09a7",
   "metadata": {},
   "outputs": [],
   "source": []
  },
  {
   "cell_type": "code",
   "execution_count": 47,
   "id": "dc38da1f",
   "metadata": {},
   "outputs": [
    {
     "data": {
      "text/html": [
       "<div>\n",
       "<style scoped>\n",
       "    .dataframe tbody tr th:only-of-type {\n",
       "        vertical-align: middle;\n",
       "    }\n",
       "\n",
       "    .dataframe tbody tr th {\n",
       "        vertical-align: top;\n",
       "    }\n",
       "\n",
       "    .dataframe thead th {\n",
       "        text-align: right;\n",
       "    }\n",
       "</style>\n",
       "<table border=\"1\" class=\"dataframe\">\n",
       "  <thead>\n",
       "    <tr style=\"text-align: right;\">\n",
       "      <th></th>\n",
       "      <th>CustomerID</th>\n",
       "      <th>Product0</th>\n",
       "      <th>Product1</th>\n",
       "      <th>Product2</th>\n",
       "      <th>Product3</th>\n",
       "      <th>Product4</th>\n",
       "      <th>PurchaseCount</th>\n",
       "      <th>PurchaseMin</th>\n",
       "      <th>PurchaseMax</th>\n",
       "      <th>PurchaseMean</th>\n",
       "      <th>PurchaseSum</th>\n",
       "      <th>Etranger</th>\n",
       "      <th>Foreign</th>\n",
       "    </tr>\n",
       "  </thead>\n",
       "  <tbody>\n",
       "    <tr>\n",
       "      <th>0</th>\n",
       "      <td>1.480857</td>\n",
       "      <td>-0.155702</td>\n",
       "      <td>0.672561</td>\n",
       "      <td>0.483407</td>\n",
       "      <td>0.113377</td>\n",
       "      <td>-0.152539</td>\n",
       "      <td>11.990880</td>\n",
       "      <td>0.019410</td>\n",
       "      <td>-0.027050</td>\n",
       "      <td>-0.093381</td>\n",
       "      <td>6.026601</td>\n",
       "      <td>0.0</td>\n",
       "      <td>0.0</td>\n",
       "    </tr>\n",
       "    <tr>\n",
       "      <th>1</th>\n",
       "      <td>-1.308028</td>\n",
       "      <td>-0.024476</td>\n",
       "      <td>-0.154165</td>\n",
       "      <td>0.201805</td>\n",
       "      <td>0.291646</td>\n",
       "      <td>-0.152539</td>\n",
       "      <td>7.518398</td>\n",
       "      <td>0.024834</td>\n",
       "      <td>-0.040674</td>\n",
       "      <td>-0.103129</td>\n",
       "      <td>3.499004</td>\n",
       "      <td>0.0</td>\n",
       "      <td>0.0</td>\n",
       "    </tr>\n",
       "    <tr>\n",
       "      <th>2</th>\n",
       "      <td>-1.577452</td>\n",
       "      <td>0.546739</td>\n",
       "      <td>1.286802</td>\n",
       "      <td>0.479647</td>\n",
       "      <td>1.065000</td>\n",
       "      <td>-0.070619</td>\n",
       "      <td>9.638971</td>\n",
       "      <td>0.008896</td>\n",
       "      <td>-0.018181</td>\n",
       "      <td>-0.001604</td>\n",
       "      <td>8.198634</td>\n",
       "      <td>0.0</td>\n",
       "      <td>0.0</td>\n",
       "    </tr>\n",
       "    <tr>\n",
       "      <th>3</th>\n",
       "      <td>-0.900989</td>\n",
       "      <td>0.025017</td>\n",
       "      <td>-0.198371</td>\n",
       "      <td>-0.079522</td>\n",
       "      <td>-0.130145</td>\n",
       "      <td>-0.152539</td>\n",
       "      <td>1.041009</td>\n",
       "      <td>0.033304</td>\n",
       "      <td>0.006533</td>\n",
       "      <td>0.039487</td>\n",
       "      <td>1.061414</td>\n",
       "      <td>0.0</td>\n",
       "      <td>0.0</td>\n",
       "    </tr>\n",
       "    <tr>\n",
       "      <th>4</th>\n",
       "      <td>-0.115944</td>\n",
       "      <td>-0.155702</td>\n",
       "      <td>-0.198371</td>\n",
       "      <td>-0.116235</td>\n",
       "      <td>-0.177254</td>\n",
       "      <td>-0.152539</td>\n",
       "      <td>0.192779</td>\n",
       "      <td>-0.015637</td>\n",
       "      <td>0.057349</td>\n",
       "      <td>0.604912</td>\n",
       "      <td>0.703185</td>\n",
       "      <td>0.0</td>\n",
       "      <td>0.0</td>\n",
       "    </tr>\n",
       "    <tr>\n",
       "      <th>...</th>\n",
       "      <td>...</td>\n",
       "      <td>...</td>\n",
       "      <td>...</td>\n",
       "      <td>...</td>\n",
       "      <td>...</td>\n",
       "      <td>...</td>\n",
       "      <td>...</td>\n",
       "      <td>...</td>\n",
       "      <td>...</td>\n",
       "      <td>...</td>\n",
       "      <td>...</td>\n",
       "      <td>...</td>\n",
       "      <td>...</td>\n",
       "    </tr>\n",
       "    <tr>\n",
       "      <th>406824</th>\n",
       "      <td>NaN</td>\n",
       "      <td>NaN</td>\n",
       "      <td>NaN</td>\n",
       "      <td>NaN</td>\n",
       "      <td>NaN</td>\n",
       "      <td>NaN</td>\n",
       "      <td>-0.038556</td>\n",
       "      <td>NaN</td>\n",
       "      <td>NaN</td>\n",
       "      <td>NaN</td>\n",
       "      <td>-0.023339</td>\n",
       "      <td>0.0</td>\n",
       "      <td>NaN</td>\n",
       "    </tr>\n",
       "    <tr>\n",
       "      <th>406825</th>\n",
       "      <td>NaN</td>\n",
       "      <td>NaN</td>\n",
       "      <td>NaN</td>\n",
       "      <td>NaN</td>\n",
       "      <td>NaN</td>\n",
       "      <td>NaN</td>\n",
       "      <td>-0.038556</td>\n",
       "      <td>NaN</td>\n",
       "      <td>NaN</td>\n",
       "      <td>NaN</td>\n",
       "      <td>-0.023339</td>\n",
       "      <td>0.0</td>\n",
       "      <td>NaN</td>\n",
       "    </tr>\n",
       "    <tr>\n",
       "      <th>406826</th>\n",
       "      <td>NaN</td>\n",
       "      <td>NaN</td>\n",
       "      <td>NaN</td>\n",
       "      <td>NaN</td>\n",
       "      <td>NaN</td>\n",
       "      <td>NaN</td>\n",
       "      <td>-0.038556</td>\n",
       "      <td>NaN</td>\n",
       "      <td>NaN</td>\n",
       "      <td>NaN</td>\n",
       "      <td>-0.023339</td>\n",
       "      <td>0.0</td>\n",
       "      <td>NaN</td>\n",
       "    </tr>\n",
       "    <tr>\n",
       "      <th>406827</th>\n",
       "      <td>NaN</td>\n",
       "      <td>NaN</td>\n",
       "      <td>NaN</td>\n",
       "      <td>NaN</td>\n",
       "      <td>NaN</td>\n",
       "      <td>NaN</td>\n",
       "      <td>-0.038556</td>\n",
       "      <td>NaN</td>\n",
       "      <td>NaN</td>\n",
       "      <td>NaN</td>\n",
       "      <td>-0.023339</td>\n",
       "      <td>0.0</td>\n",
       "      <td>NaN</td>\n",
       "    </tr>\n",
       "    <tr>\n",
       "      <th>406828</th>\n",
       "      <td>NaN</td>\n",
       "      <td>NaN</td>\n",
       "      <td>NaN</td>\n",
       "      <td>NaN</td>\n",
       "      <td>NaN</td>\n",
       "      <td>NaN</td>\n",
       "      <td>-0.038556</td>\n",
       "      <td>NaN</td>\n",
       "      <td>NaN</td>\n",
       "      <td>NaN</td>\n",
       "      <td>-0.023339</td>\n",
       "      <td>0.0</td>\n",
       "      <td>NaN</td>\n",
       "    </tr>\n",
       "  </tbody>\n",
       "</table>\n",
       "<p>406829 rows × 13 columns</p>\n",
       "</div>"
      ],
      "text/plain": [
       "        CustomerID  Product0  Product1  Product2  Product3  Product4  \\\n",
       "0         1.480857 -0.155702  0.672561  0.483407  0.113377 -0.152539   \n",
       "1        -1.308028 -0.024476 -0.154165  0.201805  0.291646 -0.152539   \n",
       "2        -1.577452  0.546739  1.286802  0.479647  1.065000 -0.070619   \n",
       "3        -0.900989  0.025017 -0.198371 -0.079522 -0.130145 -0.152539   \n",
       "4        -0.115944 -0.155702 -0.198371 -0.116235 -0.177254 -0.152539   \n",
       "...            ...       ...       ...       ...       ...       ...   \n",
       "406824         NaN       NaN       NaN       NaN       NaN       NaN   \n",
       "406825         NaN       NaN       NaN       NaN       NaN       NaN   \n",
       "406826         NaN       NaN       NaN       NaN       NaN       NaN   \n",
       "406827         NaN       NaN       NaN       NaN       NaN       NaN   \n",
       "406828         NaN       NaN       NaN       NaN       NaN       NaN   \n",
       "\n",
       "        PurchaseCount  PurchaseMin  PurchaseMax  PurchaseMean  PurchaseSum  \\\n",
       "0           11.990880     0.019410    -0.027050     -0.093381     6.026601   \n",
       "1            7.518398     0.024834    -0.040674     -0.103129     3.499004   \n",
       "2            9.638971     0.008896    -0.018181     -0.001604     8.198634   \n",
       "3            1.041009     0.033304     0.006533      0.039487     1.061414   \n",
       "4            0.192779    -0.015637     0.057349      0.604912     0.703185   \n",
       "...               ...          ...          ...           ...          ...   \n",
       "406824      -0.038556          NaN          NaN           NaN    -0.023339   \n",
       "406825      -0.038556          NaN          NaN           NaN    -0.023339   \n",
       "406826      -0.038556          NaN          NaN           NaN    -0.023339   \n",
       "406827      -0.038556          NaN          NaN           NaN    -0.023339   \n",
       "406828      -0.038556          NaN          NaN           NaN    -0.023339   \n",
       "\n",
       "        Etranger  Foreign  \n",
       "0            0.0      0.0  \n",
       "1            0.0      0.0  \n",
       "2            0.0      0.0  \n",
       "3            0.0      0.0  \n",
       "4            0.0      0.0  \n",
       "...          ...      ...  \n",
       "406824       0.0      NaN  \n",
       "406825       0.0      NaN  \n",
       "406826       0.0      NaN  \n",
       "406827       0.0      NaN  \n",
       "406828       0.0      NaN  \n",
       "\n",
       "[406829 rows x 13 columns]"
      ]
     },
     "execution_count": 47,
     "metadata": {},
     "output_type": "execute_result"
    }
   ],
   "source": [
    "scaled_customers=pd.DataFrame(scaled_customers,columns=clients.columns)\n",
    "scaled_customers"
   ]
  },
  {
   "cell_type": "code",
   "execution_count": 51,
   "id": "eccd2fca",
   "metadata": {},
   "outputs": [],
   "source": [
    "scaled_customers=scaled_customers.dropna()"
   ]
  },
  {
   "cell_type": "markdown",
   "id": "c34dd2da",
   "metadata": {},
   "source": [
    "Nous creons maintenant 6 modeles de KMeans ou chacun a des groupes de 2 a 7 .\n",
    "Nous enregistrons les scores de silhouette dans une liste ; score."
   ]
  },
  {
   "cell_type": "code",
   "execution_count": 54,
   "id": "1345c854",
   "metadata": {},
   "outputs": [],
   "source": [
    "from sklearn.cluster import KMeans\n",
    "from sklearn.metrics import silhouette_score\n",
    "cluster_nums=[2,3,4,5,6,7]\n",
    "scores=[]\n",
    "for cluster_num in cluster_nums:\n",
    "    kmeans=KMeans(cluster_num)\n",
    "    kmeans.fit(scaled_customers)\n",
    "    clusters= kmeans.predict(scaled_customers)\n",
    "    silhouette=silhouette_score(scaled_customers,clusters)\n",
    "    scores.append(silhouette)\n",
    "    \n",
    "    \n",
    "    \n",
    "    \n",
    "    \n",
    "    "
   ]
  },
  {
   "cell_type": "code",
   "execution_count": null,
   "id": "4656ecd5",
   "metadata": {},
   "outputs": [],
   "source": []
  },
  {
   "cell_type": "code",
   "execution_count": 56,
   "id": "2ff3ed16",
   "metadata": {},
   "outputs": [
    {
     "data": {
      "text/plain": [
       "<AxesSubplot:xlabel='Clusters', ylabel='Silhouette Score'>"
      ]
     },
     "execution_count": 56,
     "metadata": {},
     "output_type": "execute_result"
    },
    {
     "data": {
      "image/png": "[encoded data removed]",
      "text/plain": [
       "<Figure size 432x288 with 1 Axes>"
      ]
     },
     "metadata": {},
     "output_type": "display_data"
    }
   ],
   "source": [
    "import seaborn as sns\n",
    "import matplotlib.pyplot as plt \n",
    "sns.set_style('whitegrid')\n",
    "plt.ylabel('Silhouette Score')\n",
    "plt.xlabel('Clusters')\n",
    "sns.lineplot(x=cluster_nums,y=scores)\n"
   ]
  },
  {
   "cell_type": "code",
   "execution_count": 57,
   "id": "b5c327fe",
   "metadata": {},
   "outputs": [
    {
     "data": {
      "text/plain": [
       "KMeans(n_clusters=3)"
      ]
     },
     "execution_count": 57,
     "metadata": {},
     "output_type": "execute_result"
    }
   ],
   "source": [
    "kmeans= KMeans(3)\n",
    "kmeans.fit(scaled_customers)"
   ]
  },
  {
   "cell_type": "code",
   "execution_count": 58,
   "id": "7da0b7dd",
   "metadata": {},
   "outputs": [
    {
     "data": {
      "text/plain": [
       "array([[-1.17039180e-04, -2.31713973e-02, -3.19992787e-02,\n",
       "        -3.50609460e-02, -3.42111739e-02, -1.60869903e-02,\n",
       "         3.29402673e+00,  1.01818077e-03, -1.86428527e-03,\n",
       "        -2.40890972e-03,  1.81042412e+00,  0.00000000e+00,\n",
       "         0.00000000e+00],\n",
       "       [-2.32655432e-01,  4.85846984e+00,  5.30285409e+00,\n",
       "         7.91819782e+00,  7.13004782e+00,  2.45745655e+00,\n",
       "         2.27980949e+02, -3.74790690e-01,  3.25040915e-01,\n",
       "        -1.38329061e-01,  7.40779963e+01,  0.00000000e+00,\n",
       "         0.00000000e+00],\n",
       "       [ 2.40191105e-01,  1.36066259e+01,  1.97282396e+01,\n",
       "         2.02105092e+01,  2.01181582e+01,  1.00569376e+01,\n",
       "         3.94362445e+01, -4.90356957e-01,  1.13864144e+00,\n",
       "         1.84349674e+00,  1.99909882e+02,  0.00000000e+00,\n",
       "         0.00000000e+00]])"
      ]
     },
     "execution_count": 58,
     "metadata": {},
     "output_type": "execute_result"
    }
   ],
   "source": [
    "kmeans.cluster_centers_"
   ]
  },
  {
   "cell_type": "markdown",
   "id": "9be9a3fb",
   "metadata": {},
   "source": [
    "#### VISUALISATION GRAPHIQUE  DES CLUSTERS"
   ]
  },
  {
   "cell_type": "code",
   "execution_count": null,
   "id": "a45987da",
   "metadata": {},
   "outputs": [],
   "source": []
  },
  {
   "cell_type": "code",
   "execution_count": 82,
   "id": "4678ea13",
   "metadata": {},
   "outputs": [
    {
     "data": {
      "text/plain": [
       "<AxesSubplot:>"
      ]
     },
     "execution_count": 82,
     "metadata": {},
     "output_type": "execute_result"
    },
    {
     "data": {
      "image/png": "[encoded data removed]",
      "text/plain": [
       "<Figure size 1080x252 with 2 Axes>"
      ]
     },
     "metadata": {},
     "output_type": "display_data"
    }
   ],
   "source": [
    "plt.figure(figsize=(15,3.5))\n",
    "sns.heatmap(scaler.inverse_transform(kmeans.cluster_centers_)[:,0:11],annot=True,yticklabels=['Cluster 1','Cluster 2','Cluster 3'])"
   ]
  },
  {
   "cell_type": "code",
   "execution_count": 67,
   "id": "d9a5047b",
   "metadata": {},
   "outputs": [
    {
     "data": {
      "text/plain": [
       "array([[-1.17039180e-04, -2.31713973e-02, -3.19992787e-02,\n",
       "        -3.50609460e-02, -3.42111739e-02, -1.60869903e-02,\n",
       "         3.29402673e+00,  1.01818077e-03, -1.86428527e-03,\n",
       "        -2.40890972e-03,  1.81042412e+00,  0.00000000e+00,\n",
       "         0.00000000e+00],\n",
       "       [-2.32655432e-01,  4.85846984e+00,  5.30285409e+00,\n",
       "         7.91819782e+00,  7.13004782e+00,  2.45745655e+00,\n",
       "         2.27980949e+02, -3.74790690e-01,  3.25040915e-01,\n",
       "        -1.38329061e-01,  7.40779963e+01,  0.00000000e+00,\n",
       "         0.00000000e+00],\n",
       "       [ 2.40191105e-01,  1.36066259e+01,  1.97282396e+01,\n",
       "         2.02105092e+01,  2.01181582e+01,  1.00569376e+01,\n",
       "         3.94362445e+01, -4.90356957e-01,  1.13864144e+00,\n",
       "         1.84349674e+00,  1.99909882e+02,  0.00000000e+00,\n",
       "         0.00000000e+00]])"
      ]
     },
     "execution_count": 67,
     "metadata": {},
     "output_type": "execute_result"
    }
   ],
   "source": [
    "kmeans.cluster_centers_"
   ]
  },
  {
   "cell_type": "markdown",
   "id": "b633efec",
   "metadata": {},
   "source": [
    "#### CONCLUSION "
   ]
  },
  {
   "cell_type": "markdown",
   "id": "faa8e1bb",
   "metadata": {},
   "source": [
    "Il existe trois principaux segments de clientèle.\n",
    "\n",
    "Le segment de clientèle 1 achète de manière relativement égale parmi les 5 catégories, mais achète beaucoup à partir de la catégorie de produits 4. Ce segment de clientèle achète en moyenne 90 fois et retourne au plus 20 $ \n",
    "de produits. L'achat moyen dans le segment de clientèle 1 est d'environ 30. \n",
    "\n",
    "\n",
    "Le segment de clientèle 2 achète peu parmi les catégories de produits 1, 2 et 5. Ce segment revient fortement dans la catégorie de produits 3.\n",
    "Ce segment de clientèle achète également massivement auprès de la catégorie 4.  Les achats moyens sont les plus élevés des trois groupes .\n",
    "\n",
    "Le segment de clientèle 3 achète beaucoup parmi les cinq catégories, achetant, comme les deux autres segments de clientèle, largement auprès de la quatrième catégorie. "
   ]
  },
  {
   "cell_type": "code",
   "execution_count": null,
   "id": "218caabe",
   "metadata": {},
   "outputs": [],
   "source": []
  }
 ],
 "metadata": {
  "kernelspec": {
   "display_name": "Python 3",
   "language": "python",
   "name": "python3"
  },
  "language_info": {
   "codemirror_mode": {
    "name": "ipython",
    "version": 3
   },
   "file_extension": ".py",
   "mimetype": "text/x-python",
   "name": "python",
   "nbconvert_exporter": "python",
   "pygments_lexer": "ipython3",
   "version": "3.8.8"
  }
 },
 "nbformat": 4,
 "nbformat_minor": 5
}
